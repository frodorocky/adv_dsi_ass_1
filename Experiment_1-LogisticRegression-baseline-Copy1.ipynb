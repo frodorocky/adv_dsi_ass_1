{
 "cells": [
  {
   "cell_type": "markdown",
   "id": "69a68a21",
   "metadata": {},
   "source": [
    "# Logistic Regression(baseline)"
   ]
  },
  {
   "cell_type": "markdown",
   "id": "12690721",
   "metadata": {},
   "source": [
    "Any player who has never competed in an NBA game prior to that year is considered a rookie in the league. The NBA presents the NBA Rookie of the Year Award to the top rookie at the conclusion of the regular season.A basketball player's transition to the NBA is a significant event. The beginning of their careers is something that sports analysts and fans eagerly anticipate to monitor and predict how they will perform in the future.This notebook will use Logistic Regression to predict whether or not a player will last five years in the league based on his stats."
   ]
  },
  {
   "cell_type": "markdown",
   "id": "bf45cef1",
   "metadata": {},
   "source": [
    "The steps are:\n",
    "1. Load Data\n",
    "2. Data Cleaning and Exploration\n",
    "3. Train LR Classifier\n",
    "4. Evaluation\n",
    "5. Feature importance\n",
    "6. Prediction"
   ]
  },
  {
   "cell_type": "code",
   "execution_count": 1,
   "id": "7616f851",
   "metadata": {},
   "outputs": [],
   "source": [
    "import pandas as pd\n",
    "import numpy as np\n",
    "import shap\n",
    "import seaborn as sns\n",
    "import matplotlib.pyplot as plt\n",
    "import matplotlib\n",
    "matplotlib.use('Qt5Agg') \n",
    "%matplotlib inline\n",
    "\n",
    "from sklearn.model_selection import train_test_split\n",
    "from sklearn.linear_model import LogisticRegression\n",
    "from sklearn.pipeline import Pipeline, make_pipeline\n",
    "from sklearn.metrics import classification_report, roc_curve, roc_auc_score, accuracy_score, precision_score, recall_score, f1_score\n",
    "from sklearn.model_selection import GridSearchCV, RandomizedSearchCV"
   ]
  },
  {
   "cell_type": "code",
   "execution_count": 2,
   "id": "db4474fc",
   "metadata": {},
   "outputs": [],
   "source": [
    "### 1. Setup Repository"
   ]
  },
  {
   "cell_type": "code",
   "execution_count": 10,
   "id": "988d84fa",
   "metadata": {},
   "outputs": [
    {
     "name": "stdout",
     "output_type": "stream",
     "text": [
      "C:\\Users\\frodo\\desktop\\36114\\project\\adv_dsi_2023\n"
     ]
    }
   ],
   "source": [
    "cd /Users/frodo/desktop/36114/project/adv_dsi_2023"
   ]
  },
  {
   "cell_type": "code",
   "execution_count": 8,
   "id": "846b70dd",
   "metadata": {},
   "outputs": [
    {
     "data": {
      "text/plain": [
       "'C:\\\\Users\\\\frodo\\\\desktop\\\\36114\\\\project\\\\adv_dsi_2023'"
      ]
     },
     "execution_count": 8,
     "metadata": {},
     "output_type": "execute_result"
    }
   ],
   "source": [
    "import os\n",
    "os.getcwd()"
   ]
  },
  {
   "cell_type": "code",
   "execution_count": 11,
   "id": "3fac0b3d",
   "metadata": {},
   "outputs": [
    {
     "ename": "SyntaxError",
     "evalue": "invalid syntax (3580079992.py, line 1)",
     "output_type": "error",
     "traceback": [
      "\u001b[1;36m  Cell \u001b[1;32mIn[11], line 1\u001b[1;36m\u001b[0m\n\u001b[1;33m    cookiecutter https://github.com/drivendata/cookiecutter-data-science\u001b[0m\n\u001b[1;37m                 ^\u001b[0m\n\u001b[1;31mSyntaxError\u001b[0m\u001b[1;31m:\u001b[0m invalid syntax\n"
     ]
    }
   ],
   "source": [
    "cookiecutter https://github.com/drivendata/cookiecutter-data-science"
   ]
  },
  {
   "cell_type": "code",
   "execution_count": 6,
   "id": "ac67fe25",
   "metadata": {},
   "outputs": [
    {
     "name": "stdout",
     "output_type": "stream",
     "text": [
      "[WinError 2] 系统找不到指定的文件。: 'adv_dsi_2023'\n",
      "C:\\Users\\frodo\\desktop\\36114\\project\\adv_dsi_2023\n"
     ]
    }
   ],
   "source": [
    "cd adv_dsi_2023"
   ]
  },
  {
   "cell_type": "code",
   "execution_count": null,
   "id": "437615d4",
   "metadata": {},
   "outputs": [],
   "source": []
  },
  {
   "cell_type": "code",
   "execution_count": null,
   "id": "b02ae5a9",
   "metadata": {},
   "outputs": [],
   "source": []
  },
  {
   "cell_type": "markdown",
   "id": "0bcdecc8",
   "metadata": {},
   "source": [
    "## 1. Load data"
   ]
  },
  {
   "cell_type": "code",
   "execution_count": null,
   "id": "3a9bc56b",
   "metadata": {},
   "outputs": [],
   "source": [
    "#Load the dataset\n",
    "df = pd.read_csv(\"nba_train.csv\")"
   ]
  },
  {
   "cell_type": "markdown",
   "id": "cb7def06",
   "metadata": {},
   "source": [
    "### Define X and Y"
   ]
  },
  {
   "cell_type": "code",
   "execution_count": null,
   "id": "efc203fb",
   "metadata": {},
   "outputs": [],
   "source": [
    "# Extract the target variable into a variable called y\n",
    "y = df.pop('TARGET_5Yrs')\n",
    "\n",
    "# Set the index of a DataFrame called 'df_cleaned' to the values of the column 'Id'.\n",
    "df = df.set_index(['Id'])"
   ]
  },
  {
   "cell_type": "markdown",
   "id": "926aa512",
   "metadata": {},
   "source": [
    "### Distribution of Y"
   ]
  },
  {
   "cell_type": "code",
   "execution_count": null,
   "id": "c04f1270",
   "metadata": {},
   "outputs": [],
   "source": [
    "y.value_counts()"
   ]
  },
  {
   "cell_type": "code",
   "execution_count": null,
   "id": "0e44d802",
   "metadata": {},
   "outputs": [],
   "source": [
    "# Calculate positive and negative sample ratios\n",
    "sizes = y.value_counts(normalize=True).plot(kind=\"bar\", color=[\"red\", \"blue\"])"
   ]
  },
  {
   "cell_type": "markdown",
   "id": "aecb6796",
   "metadata": {},
   "source": [
    "### Display the first 5 rows of train data"
   ]
  },
  {
   "cell_type": "code",
   "execution_count": null,
   "id": "5b89a5dd",
   "metadata": {},
   "outputs": [],
   "source": [
    "df.head()"
   ]
  },
  {
   "cell_type": "markdown",
   "id": "4e4f7cca",
   "metadata": {},
   "source": [
    "### Display the shape of train data"
   ]
  },
  {
   "cell_type": "code",
   "execution_count": null,
   "id": "ce3dc7b5",
   "metadata": {},
   "outputs": [],
   "source": [
    "df.shape"
   ]
  },
  {
   "cell_type": "markdown",
   "id": "bc225bea",
   "metadata": {},
   "source": [
    "There are 8000 observations with 20 features,and there is no missing value in train dataset"
   ]
  },
  {
   "cell_type": "code",
   "execution_count": null,
   "id": "aa5def26",
   "metadata": {},
   "outputs": [],
   "source": [
    "df.info()"
   ]
  },
  {
   "cell_type": "code",
   "execution_count": null,
   "id": "0e983c50",
   "metadata": {},
   "outputs": [],
   "source": [
    "df.isna().any()"
   ]
  },
  {
   "cell_type": "code",
   "execution_count": null,
   "id": "b846cc90",
   "metadata": {},
   "outputs": [],
   "source": [
    "df.isnull().any()"
   ]
  },
  {
   "cell_type": "markdown",
   "id": "fda488b9",
   "metadata": {},
   "source": [
    "### Description of data"
   ]
  },
  {
   "cell_type": "code",
   "execution_count": null,
   "id": "525745ca",
   "metadata": {},
   "outputs": [],
   "source": [
    "df.describe()"
   ]
  },
  {
   "cell_type": "markdown",
   "id": "45a1225d",
   "metadata": {},
   "source": [
    "We can see there are some negative values in our dataset, but negative values are usually not present in this case, we may handle this problem in the data preprocess step"
   ]
  },
  {
   "cell_type": "markdown",
   "id": "34dcd62d",
   "metadata": {},
   "source": [
    "## 2.Data Preparation"
   ]
  },
  {
   "cell_type": "markdown",
   "id": "7fb24ad9",
   "metadata": {},
   "source": [
    "We will do data cleaning and data exploration simultaneously because data exploration often goes hand in hand with data cleaning processes in our experiment"
   ]
  },
  {
   "cell_type": "markdown",
   "id": "b6de4e8c",
   "metadata": {},
   "source": [
    "### Split data"
   ]
  },
  {
   "cell_type": "code",
   "execution_count": null,
   "id": "7257b834",
   "metadata": {},
   "outputs": [],
   "source": [
    "# Split the dataset into train and validation sets\n",
    "X_train, X_test, y_train, y_test = train_test_split(df, y, test_size=0.2, random_state=42, stratify=y)"
   ]
  },
  {
   "cell_type": "markdown",
   "id": "6b895466",
   "metadata": {},
   "source": [
    "### Correlation matrix"
   ]
  },
  {
   "cell_type": "code",
   "execution_count": null,
   "id": "5f21dc5e",
   "metadata": {},
   "outputs": [],
   "source": [
    "#Correlation matrix\n",
    "corr_matrix = X_train.corr()"
   ]
  },
  {
   "cell_type": "code",
   "execution_count": null,
   "id": "de66fdb2",
   "metadata": {},
   "outputs": [],
   "source": [
    "#plot heatmap\n",
    "fig, ax = plt.subplots(figsize=(16,10))\n",
    "ax = sns.heatmap(corr_matrix, annot=True, linewidths=0.5, fmt=\".2f\", cmap=\"YlGnBu\")"
   ]
  },
  {
   "cell_type": "markdown",
   "id": "3a7eb02d",
   "metadata": {},
   "source": [
    "There are some variables highly correlated so we deleted some features."
   ]
  },
  {
   "cell_type": "code",
   "execution_count": null,
   "id": "59aa508e",
   "metadata": {},
   "outputs": [],
   "source": [
    "X_train = X_train.drop(['FGA', '3PA', 'FTA', 'REB'], axis = 1)"
   ]
  },
  {
   "cell_type": "markdown",
   "id": "abab11ff",
   "metadata": {},
   "source": [
    "## 3. Train model"
   ]
  },
  {
   "cell_type": "markdown",
   "id": "a758bb7b",
   "metadata": {},
   "source": [
    "we generate a custompreprocessor ensure there is no negative value in our train dataset"
   ]
  },
  {
   "cell_type": "code",
   "execution_count": null,
   "id": "74914845",
   "metadata": {},
   "outputs": [],
   "source": [
    "from sklearn.base import BaseEstimator, TransformerMixin\n",
    "from sklearn.pipeline import Pipeline\n",
    "\n",
    "class CustomPreprocessor(BaseEstimator, TransformerMixin):\n",
    "    def __init__(self):\n",
    "        pass\n",
    "\n",
    "    def fit(self, X, y=None):\n",
    "        return self\n",
    "\n",
    "    def transform(self, X):\n",
    "        X[X < 0] = 0\n",
    "        return X"
   ]
  },
  {
   "cell_type": "markdown",
   "id": "3e3717d6",
   "metadata": {},
   "source": [
    "### Define training pipeline"
   ]
  },
  {
   "cell_type": "code",
   "execution_count": null,
   "id": "94172b33",
   "metadata": {},
   "outputs": [],
   "source": [
    "# Create Pipeline\n",
    "pipeline = Pipeline([\n",
    "    ('preprocessor', CustomPreprocessor()),\n",
    "    ('classifier', LogisticRegression(class_weight='balanced', random_state=42))\n",
    "])"
   ]
  },
  {
   "cell_type": "markdown",
   "id": "9366753e",
   "metadata": {},
   "source": [
    "### Grid Search"
   ]
  },
  {
   "cell_type": "code",
   "execution_count": null,
   "id": "c17604d6",
   "metadata": {},
   "outputs": [],
   "source": [
    "# Specify the parameter grid\n",
    "gs_param_grid = {\n",
    "    'classifier__C': [0.001, 0.01, 0.1, 1, 10, 100],\n",
    "    'classifier__penalty': ['l1', 'l2'],\n",
    "    'classifier__solver': ['liblinear', 'saga']  # solvers that support both 'l1' and 'l2' penalties\n",
    "}\n",
    "\n",
    "# Create a GridSearchCV instance with the pipeline and parameter grid\n",
    "grid_search = GridSearchCV(pipeline, gs_param_grid, scoring='roc_auc', cv=5, \n",
    "                           verbose=2, n_jobs=-1, error_score='raise')\n",
    "\n",
    "# Fit the GridSearchCV \n",
    "grid_search.fit(X_train, y_train)\n",
    "\n",
    "# Get the best parameters and score\n",
    "gs_best_params = grid_search.best_params_\n",
    "gs_best_score = grid_search.best_score_\n",
    "\n",
    "print(\"Best Parameters:\", gs_best_params)\n",
    "print(\"Best Score:\", gs_best_score)"
   ]
  },
  {
   "cell_type": "markdown",
   "id": "1a417ab4",
   "metadata": {},
   "source": [
    "### Random Search"
   ]
  },
  {
   "cell_type": "code",
   "execution_count": null,
   "id": "62a7f119",
   "metadata": {},
   "outputs": [],
   "source": [
    "# Specify the parameter grid\n",
    "rs_param_grid = {\n",
    "    'classifier__C': [0.001, 0.01, 0.1, 1, 10, 100],\n",
    "    'classifier__penalty': ['l1', 'l2'],\n",
    "    'classifier__solver': ['liblinear', 'saga']  # solvers that support both 'l1' and 'l2' penalties\n",
    "}\n",
    "\n",
    "# Create a RandomizedSearchCV instance with the pipeline and parameter grid\n",
    "random_search = RandomizedSearchCV(pipeline, param_distributions=rs_param_grid, n_iter=10,\n",
    "                                   scoring='roc_auc', cv=5, verbose=2, n_jobs=-1,\n",
    "                                   error_score='raise')\n",
    "\n",
    "# Fit the RandomizedSearchCV \n",
    "random_search.fit(X_train, y_train)\n",
    "\n",
    "# Get the best parameters and score\n",
    "rs_best_params = random_search.best_params_\n",
    "rs_best_score = random_search.best_score_\n",
    "\n",
    "print(\"Best Parameters:\", rs_best_params)\n",
    "print(\"Best Score:\", rs_best_score)"
   ]
  },
  {
   "cell_type": "markdown",
   "id": "06a7efd2",
   "metadata": {},
   "source": [
    "## 4. Evaluation on validation data"
   ]
  },
  {
   "cell_type": "markdown",
   "id": "362742f0",
   "metadata": {},
   "source": [
    "we applied the trained model on validation data to obtain model performance "
   ]
  },
  {
   "cell_type": "code",
   "execution_count": null,
   "id": "e81ec770",
   "metadata": {},
   "outputs": [],
   "source": [
    "X_test = X_test.drop(['FGA', '3PA', 'FTA', 'REB'], axis = 1)\n",
    "\n",
    "best_model = grid_search.best_estimator_\n",
    "y_pred = best_model.predict(X_test)"
   ]
  },
  {
   "cell_type": "code",
   "execution_count": null,
   "id": "f4f2aecb",
   "metadata": {},
   "outputs": [],
   "source": [
    "# prediction\n",
    "y_pred = best_model.predict(X_test)\n",
    "y_pred_proba = best_model.predict_proba(X_test)[:, 1]\n",
    "\n",
    "# evaluation\n",
    "accuracy = accuracy_score(y_test, y_pred)\n",
    "precision = precision_score(y_test, y_pred)\n",
    "recall = recall_score(y_test, y_pred)\n",
    "f1 = f1_score(y_test, y_pred)\n",
    "auc = roc_auc_score(y_test, y_pred_proba)\n",
    "\n",
    "print(f\"Accuracy: {accuracy:.4f}\")\n",
    "print(f\"Precision: {precision:.4f}\")\n",
    "print(f\"Recall: {recall:.4f}\")\n",
    "print(f\"F1-score: {f1:.4f}\")\n",
    "print(f\"AUC: {auc:.4f}\")"
   ]
  },
  {
   "cell_type": "markdown",
   "id": "cafa3c5c",
   "metadata": {},
   "source": [
    "### Classification Report"
   ]
  },
  {
   "cell_type": "code",
   "execution_count": null,
   "id": "e4c334b5",
   "metadata": {},
   "outputs": [],
   "source": [
    "print(classification_report(y_test, y_pred))"
   ]
  },
  {
   "cell_type": "markdown",
   "id": "b5143de4",
   "metadata": {},
   "source": [
    "### Plot ROC curve"
   ]
  },
  {
   "cell_type": "code",
   "execution_count": null,
   "id": "f389a057",
   "metadata": {},
   "outputs": [],
   "source": [
    "y_pred_proba = best_model.predict_proba(X_test)[:,1]\n",
    "auc = roc_auc_score(y_test,grid_search.best_estimator_.predict_proba(X_test)[:,1])"
   ]
  },
  {
   "cell_type": "code",
   "execution_count": null,
   "id": "2fe6e8a6",
   "metadata": {},
   "outputs": [],
   "source": [
    "fpr, tpr, _ = roc_curve(y_test,  y_pred_proba)\n",
    "auc = roc_auc_score(y_test, y_pred_proba)\n",
    "\n",
    "plt.plot(fpr,tpr,label='LR AUC %0.4f' % auc, color='blue', lw = 2)\n",
    "plt.plot([0, 1], [0, 1], color='black', lw=2, linestyle='--')\n",
    "plt.xlim([0.0, 1.0])\n",
    "plt.ylim([0.0, 1.05])\n",
    "plt.xlabel('False Positive Rate')\n",
    "plt.ylabel('True Positive Rate')\n",
    "plt.title('Receiver operating Curve')\n",
    "plt.legend(loc=\"lower right\")\n",
    "plt.show()"
   ]
  },
  {
   "cell_type": "markdown",
   "id": "0724cea3",
   "metadata": {},
   "source": [
    "## 5.Feature importance"
   ]
  },
  {
   "cell_type": "code",
   "execution_count": null,
   "id": "c9e92190",
   "metadata": {},
   "outputs": [],
   "source": [
    "feature_importance = best_model.named_steps['classifier'].coef_\n",
    "feature_names = X_train.columns.tolist()\n",
    "result = dict(zip(feature_names, feature_importance[0]))"
   ]
  },
  {
   "cell_type": "markdown",
   "id": "d342a60c",
   "metadata": {},
   "source": [
    "### Plot the feature importances"
   ]
  },
  {
   "cell_type": "code",
   "execution_count": null,
   "id": "4d883455",
   "metadata": {},
   "outputs": [],
   "source": [
    "plt.figure(figsize=(20, 10))\n",
    "plt.bar(np.arange(len(feature_importance[0])), feature_importance[0], align='center')\n",
    "plt.xticks(np.arange(len(feature_importance[0])), feature_names, rotation=90)\n",
    "plt.xlabel('Feature Names')\n",
    "plt.ylabel('Feature Importance')\n",
    "plt.title('Feature Importances')\n",
    "plt.show()"
   ]
  },
  {
   "cell_type": "markdown",
   "id": "d9f295c3",
   "metadata": {},
   "source": [
    "## 6.Prediction"
   ]
  },
  {
   "cell_type": "markdown",
   "id": "d4aeed8b",
   "metadata": {},
   "source": [
    "Finally we applied the trained model on test data and upload our result to obtain score"
   ]
  },
  {
   "cell_type": "markdown",
   "id": "adf242b3",
   "metadata": {},
   "source": [
    "### Load test data"
   ]
  },
  {
   "cell_type": "code",
   "execution_count": null,
   "id": "ff166088",
   "metadata": {},
   "outputs": [],
   "source": [
    "#Load the dataset\n",
    "df_test = pd.read_csv(\"nba_test.csv\")\n",
    "df_test = df_test.set_index(['Id'])\n",
    "df_test = df_test.drop(['FGA', '3PA', 'FTA', 'REB'], axis = 1)"
   ]
  },
  {
   "cell_type": "markdown",
   "id": "4a9df0c8",
   "metadata": {},
   "source": [
    "### Obtain predict value"
   ]
  },
  {
   "cell_type": "code",
   "execution_count": null,
   "id": "4691000c",
   "metadata": {},
   "outputs": [],
   "source": [
    "# prediction\n",
    "y_label = grid_search.best_estimator_.predict(df_test)\n",
    "y_score = best_model.predict_proba(df_test)[:, 1]"
   ]
  },
  {
   "cell_type": "code",
   "execution_count": null,
   "id": "84258275",
   "metadata": {},
   "outputs": [],
   "source": []
  },
  {
   "cell_type": "code",
   "execution_count": null,
   "id": "bb57cc7e",
   "metadata": {},
   "outputs": [],
   "source": []
  }
 ],
 "metadata": {
  "kernelspec": {
   "display_name": "Python 3 (ipykernel)",
   "language": "python",
   "name": "python3"
  },
  "language_info": {
   "codemirror_mode": {
    "name": "ipython",
    "version": 3
   },
   "file_extension": ".py",
   "mimetype": "text/x-python",
   "name": "python",
   "nbconvert_exporter": "python",
   "pygments_lexer": "ipython3",
   "version": "3.10.9"
  }
 },
 "nbformat": 4,
 "nbformat_minor": 5
}
